{
  "nbformat": 4,
  "nbformat_minor": 0,
  "metadata": {
    "colab": {
      "name": "K-nn for modelling thrust bearing PLTA Bili-Bili ",
      "provenance": [],
      "collapsed_sections": []
    },
    "kernelspec": {
      "display_name": "Python 3",
      "name": "python3"
    }
  },
  "cells": [
    {
      "cell_type": "markdown",
      "metadata": {
        "id": "_Vd60YzUHOGm"
      },
      "source": [
        "#Process modelling with initial data"
      ]
    },
    {
      "cell_type": "code",
      "metadata": {
        "id": "9hWycrKWuPAA"
      },
      "source": [
        "#mengimport library yag digunakan\n",
        "import pandas as pd\n",
        "import numpy as np"
      ],
      "execution_count": null,
      "outputs": []
    },
    {
      "cell_type": "code",
      "metadata": {
        "colab": {
          "base_uri": "https://localhost:8080/",
          "height": 1000
        },
        "id": "D3PTVWYVu5b7",
        "outputId": "4f0ec0c3-1c81-4fda-8be6-2a6ece4ffb4f"
      },
      "source": [
        "#mengimport dataset digunakan based classifica\n",
        "predikat = pd.read_excel(\"project AI k-nn unit Bili-Bili.xlsx\")\n",
        "predikat"
      ],
      "execution_count": null,
      "outputs": [
        {
          "output_type": "execute_result",
          "data": {
            "text/html": [
              "<div>\n",
              "<style scoped>\n",
              "    .dataframe tbody tr th:only-of-type {\n",
              "        vertical-align: middle;\n",
              "    }\n",
              "\n",
              "    .dataframe tbody tr th {\n",
              "        vertical-align: top;\n",
              "    }\n",
              "\n",
              "    .dataframe thead th {\n",
              "        text-align: right;\n",
              "    }\n",
              "</style>\n",
              "<table border=\"1\" class=\"dataframe\">\n",
              "  <thead>\n",
              "    <tr style=\"text-align: right;\">\n",
              "      <th></th>\n",
              "      <th>waktu</th>\n",
              "      <th>Genshaftx</th>\n",
              "      <th>TEMPBEARINGMETAL</th>\n",
              "      <th>TEMPBEARINGMETALTURBINE</th>\n",
              "      <th>kondisi</th>\n",
              "    </tr>\n",
              "  </thead>\n",
              "  <tbody>\n",
              "    <tr>\n",
              "      <th>0</th>\n",
              "      <td>comisioning</td>\n",
              "      <td>98.000000</td>\n",
              "      <td>54.2</td>\n",
              "      <td>65.0</td>\n",
              "      <td>0</td>\n",
              "    </tr>\n",
              "    <tr>\n",
              "      <th>1</th>\n",
              "      <td>comisioning</td>\n",
              "      <td>96.000000</td>\n",
              "      <td>54.0</td>\n",
              "      <td>64.0</td>\n",
              "      <td>0</td>\n",
              "    </tr>\n",
              "    <tr>\n",
              "      <th>2</th>\n",
              "      <td>2015-12-18 00:00:00</td>\n",
              "      <td>104.000000</td>\n",
              "      <td>55.2</td>\n",
              "      <td>64.0</td>\n",
              "      <td>0</td>\n",
              "    </tr>\n",
              "    <tr>\n",
              "      <th>3</th>\n",
              "      <td>2015-12-16 00:00:00</td>\n",
              "      <td>130.000000</td>\n",
              "      <td>58.1</td>\n",
              "      <td>64.4</td>\n",
              "      <td>1</td>\n",
              "    </tr>\n",
              "    <tr>\n",
              "      <th>4</th>\n",
              "      <td>2015-12-19 00:00:00</td>\n",
              "      <td>134.000000</td>\n",
              "      <td>56.5</td>\n",
              "      <td>61.9</td>\n",
              "      <td>1</td>\n",
              "    </tr>\n",
              "    <tr>\n",
              "      <th>5</th>\n",
              "      <td>2015-12-23 00:00:00</td>\n",
              "      <td>113.000000</td>\n",
              "      <td>60.0</td>\n",
              "      <td>65.6</td>\n",
              "      <td>1</td>\n",
              "    </tr>\n",
              "    <tr>\n",
              "      <th>6</th>\n",
              "      <td>2016-01-25 00:00:00</td>\n",
              "      <td>70.000000</td>\n",
              "      <td>57.2</td>\n",
              "      <td>63.0</td>\n",
              "      <td>0</td>\n",
              "    </tr>\n",
              "    <tr>\n",
              "      <th>7</th>\n",
              "      <td>2016-01-24 00:00:00</td>\n",
              "      <td>106.000000</td>\n",
              "      <td>54.2</td>\n",
              "      <td>62.7</td>\n",
              "      <td>0</td>\n",
              "    </tr>\n",
              "    <tr>\n",
              "      <th>8</th>\n",
              "      <td>31/12/2015</td>\n",
              "      <td>151.000000</td>\n",
              "      <td>56.9</td>\n",
              "      <td>65.9</td>\n",
              "      <td>1</td>\n",
              "    </tr>\n",
              "    <tr>\n",
              "      <th>9</th>\n",
              "      <td>2016-01-01 00:00:00</td>\n",
              "      <td>125.000000</td>\n",
              "      <td>59.9</td>\n",
              "      <td>65.8</td>\n",
              "      <td>1</td>\n",
              "    </tr>\n",
              "    <tr>\n",
              "      <th>10</th>\n",
              "      <td>2016-01-17 00:00:00</td>\n",
              "      <td>106.857143</td>\n",
              "      <td>58.9</td>\n",
              "      <td>65.2</td>\n",
              "      <td>0</td>\n",
              "    </tr>\n",
              "    <tr>\n",
              "      <th>11</th>\n",
              "      <td>2016-01-19 00:00:00</td>\n",
              "      <td>97.750000</td>\n",
              "      <td>52.7</td>\n",
              "      <td>64.1</td>\n",
              "      <td>0</td>\n",
              "    </tr>\n",
              "    <tr>\n",
              "      <th>12</th>\n",
              "      <td>2016-01-21 00:00:00</td>\n",
              "      <td>83.416667</td>\n",
              "      <td>54.7</td>\n",
              "      <td>64.8</td>\n",
              "      <td>0</td>\n",
              "    </tr>\n",
              "    <tr>\n",
              "      <th>13</th>\n",
              "      <td>2016-01-07 00:00:00</td>\n",
              "      <td>122.000000</td>\n",
              "      <td>59.0</td>\n",
              "      <td>65.9</td>\n",
              "      <td>1</td>\n",
              "    </tr>\n",
              "    <tr>\n",
              "      <th>14</th>\n",
              "      <td>2016-01-06 00:00:00</td>\n",
              "      <td>114.000000</td>\n",
              "      <td>60.1</td>\n",
              "      <td>65.7</td>\n",
              "      <td>1</td>\n",
              "    </tr>\n",
              "    <tr>\n",
              "      <th>15</th>\n",
              "      <td>19/12/2015</td>\n",
              "      <td>134.000000</td>\n",
              "      <td>57.7</td>\n",
              "      <td>64.1</td>\n",
              "      <td>1</td>\n",
              "    </tr>\n",
              "    <tr>\n",
              "      <th>16</th>\n",
              "      <td>2015-01-12 00:00:00</td>\n",
              "      <td>133.000000</td>\n",
              "      <td>58.1</td>\n",
              "      <td>65.4</td>\n",
              "      <td>1</td>\n",
              "    </tr>\n",
              "    <tr>\n",
              "      <th>17</th>\n",
              "      <td>2016-01-12 00:00:00</td>\n",
              "      <td>121.666667</td>\n",
              "      <td>59.7</td>\n",
              "      <td>65.2</td>\n",
              "      <td>1</td>\n",
              "    </tr>\n",
              "    <tr>\n",
              "      <th>18</th>\n",
              "      <td>2016-01-13 00:00:00</td>\n",
              "      <td>115.444444</td>\n",
              "      <td>57.0</td>\n",
              "      <td>64.8</td>\n",
              "      <td>1</td>\n",
              "    </tr>\n",
              "    <tr>\n",
              "      <th>19</th>\n",
              "      <td>2016-01-14 00:00:00</td>\n",
              "      <td>130.000000</td>\n",
              "      <td>59.8</td>\n",
              "      <td>64.6</td>\n",
              "      <td>1</td>\n",
              "    </tr>\n",
              "    <tr>\n",
              "      <th>20</th>\n",
              "      <td>2016-01-16 00:00:00</td>\n",
              "      <td>110.750000</td>\n",
              "      <td>55.2</td>\n",
              "      <td>64.9</td>\n",
              "      <td>0</td>\n",
              "    </tr>\n",
              "    <tr>\n",
              "      <th>21</th>\n",
              "      <td>2016-01-31 00:00:00</td>\n",
              "      <td>122.000000</td>\n",
              "      <td>58.8</td>\n",
              "      <td>58.1</td>\n",
              "      <td>1</td>\n",
              "    </tr>\n",
              "    <tr>\n",
              "      <th>22</th>\n",
              "      <td>2016-01-26 00:00:00</td>\n",
              "      <td>113.000000</td>\n",
              "      <td>56.1</td>\n",
              "      <td>63.6</td>\n",
              "      <td>0</td>\n",
              "    </tr>\n",
              "    <tr>\n",
              "      <th>23</th>\n",
              "      <td>2016-01-27 00:00:00</td>\n",
              "      <td>113.181818</td>\n",
              "      <td>54.7</td>\n",
              "      <td>64.5</td>\n",
              "      <td>0</td>\n",
              "    </tr>\n",
              "    <tr>\n",
              "      <th>24</th>\n",
              "      <td>2016-01-22 00:00:00</td>\n",
              "      <td>93.000000</td>\n",
              "      <td>55.2</td>\n",
              "      <td>64.7</td>\n",
              "      <td>0</td>\n",
              "    </tr>\n",
              "    <tr>\n",
              "      <th>25</th>\n",
              "      <td>2016-01-23 00:00:00</td>\n",
              "      <td>85.000000</td>\n",
              "      <td>57.3</td>\n",
              "      <td>62.5</td>\n",
              "      <td>0</td>\n",
              "    </tr>\n",
              "    <tr>\n",
              "      <th>26</th>\n",
              "      <td>2015-12-20 00:00:00</td>\n",
              "      <td>112.000000</td>\n",
              "      <td>57.0</td>\n",
              "      <td>64.0</td>\n",
              "      <td>1</td>\n",
              "    </tr>\n",
              "    <tr>\n",
              "      <th>27</th>\n",
              "      <td>2015-12-21 00:00:00</td>\n",
              "      <td>118.000000</td>\n",
              "      <td>57.7</td>\n",
              "      <td>65.1</td>\n",
              "      <td>1</td>\n",
              "    </tr>\n",
              "    <tr>\n",
              "      <th>28</th>\n",
              "      <td>2015-12-22 00:00:00</td>\n",
              "      <td>110.000000</td>\n",
              "      <td>59.6</td>\n",
              "      <td>65.3</td>\n",
              "      <td>1</td>\n",
              "    </tr>\n",
              "    <tr>\n",
              "      <th>29</th>\n",
              "      <td>2016-01-28 00:00:00</td>\n",
              "      <td>106.000000</td>\n",
              "      <td>55.2</td>\n",
              "      <td>65.1</td>\n",
              "      <td>0</td>\n",
              "    </tr>\n",
              "    <tr>\n",
              "      <th>30</th>\n",
              "      <td>2016-01-29 00:00:00</td>\n",
              "      <td>95.000000</td>\n",
              "      <td>56.0</td>\n",
              "      <td>65.3</td>\n",
              "      <td>0</td>\n",
              "    </tr>\n",
              "    <tr>\n",
              "      <th>31</th>\n",
              "      <td>2016-01-30 00:00:00</td>\n",
              "      <td>110.000000</td>\n",
              "      <td>57.1</td>\n",
              "      <td>65.6</td>\n",
              "      <td>1</td>\n",
              "    </tr>\n",
              "  </tbody>\n",
              "</table>\n",
              "</div>"
            ],
            "text/plain": [
              "                  waktu   Genshaftx  ...  TEMPBEARINGMETALTURBINE  kondisi\n",
              "0           comisioning   98.000000  ...                     65.0        0\n",
              "1           comisioning   96.000000  ...                     64.0        0\n",
              "2   2015-12-18 00:00:00  104.000000  ...                     64.0        0\n",
              "3   2015-12-16 00:00:00  130.000000  ...                     64.4        1\n",
              "4   2015-12-19 00:00:00  134.000000  ...                     61.9        1\n",
              "5   2015-12-23 00:00:00  113.000000  ...                     65.6        1\n",
              "6   2016-01-25 00:00:00   70.000000  ...                     63.0        0\n",
              "7   2016-01-24 00:00:00  106.000000  ...                     62.7        0\n",
              "8            31/12/2015  151.000000  ...                     65.9        1\n",
              "9   2016-01-01 00:00:00  125.000000  ...                     65.8        1\n",
              "10  2016-01-17 00:00:00  106.857143  ...                     65.2        0\n",
              "11  2016-01-19 00:00:00   97.750000  ...                     64.1        0\n",
              "12  2016-01-21 00:00:00   83.416667  ...                     64.8        0\n",
              "13  2016-01-07 00:00:00  122.000000  ...                     65.9        1\n",
              "14  2016-01-06 00:00:00  114.000000  ...                     65.7        1\n",
              "15           19/12/2015  134.000000  ...                     64.1        1\n",
              "16  2015-01-12 00:00:00  133.000000  ...                     65.4        1\n",
              "17  2016-01-12 00:00:00  121.666667  ...                     65.2        1\n",
              "18  2016-01-13 00:00:00  115.444444  ...                     64.8        1\n",
              "19  2016-01-14 00:00:00  130.000000  ...                     64.6        1\n",
              "20  2016-01-16 00:00:00  110.750000  ...                     64.9        0\n",
              "21  2016-01-31 00:00:00  122.000000  ...                     58.1        1\n",
              "22  2016-01-26 00:00:00  113.000000  ...                     63.6        0\n",
              "23  2016-01-27 00:00:00  113.181818  ...                     64.5        0\n",
              "24  2016-01-22 00:00:00   93.000000  ...                     64.7        0\n",
              "25  2016-01-23 00:00:00   85.000000  ...                     62.5        0\n",
              "26  2015-12-20 00:00:00  112.000000  ...                     64.0        1\n",
              "27  2015-12-21 00:00:00  118.000000  ...                     65.1        1\n",
              "28  2015-12-22 00:00:00  110.000000  ...                     65.3        1\n",
              "29  2016-01-28 00:00:00  106.000000  ...                     65.1        0\n",
              "30  2016-01-29 00:00:00   95.000000  ...                     65.3        0\n",
              "31  2016-01-30 00:00:00  110.000000  ...                     65.6        1\n",
              "\n",
              "[32 rows x 5 columns]"
            ]
          },
          "metadata": {},
          "execution_count": 2
        }
      ]
    },
    {
      "cell_type": "code",
      "metadata": {
        "id": "83DqsAPFy29Y"
      },
      "source": [
        "#membagi column yang digunakan sebagai feature=x(Genshaftx,TEMPBEARING METAL) dan y=label(kondisi)\n",
        "#y=label(1=kondisi abnormal,0=kondisi normal)\n",
        "x = predikat.iloc[:,1:3].values\n",
        "y = predikat.iloc[:,-1].values"
      ],
      "execution_count": null,
      "outputs": []
    },
    {
      "cell_type": "code",
      "metadata": {
        "id": "-GxwK6gNFEWz"
      },
      "source": [
        "#membagi dataset sebagai modelling 80% untuk train dan 20% test \n",
        "from sklearn.model_selection import train_test_split\n",
        "x_train,x_test,y_train,y_test = train_test_split(x,y,test_size=0.4,random_state=42,stratify=y)"
      ],
      "execution_count": null,
      "outputs": []
    },
    {
      "cell_type": "code",
      "metadata": {
        "id": "8cILKq0pxZn-"
      },
      "source": [
        "#menggunakan library k-nn \n",
        "from sklearn.neighbors import KNeighborsClassifier"
      ],
      "execution_count": null,
      "outputs": []
    },
    {
      "cell_type": "code",
      "metadata": {
        "colab": {
          "base_uri": "https://localhost:8080/"
        },
        "id": "6w1DqK8XGEHM",
        "outputId": "f1b02f3c-9d41-4bbe-94e6-8c8920ad349e"
      },
      "source": [
        "#proses mengetahui berapa nilai terbaik k atau jumlah neigbour  untuk permodelan dari 1-10\n",
        "from sklearn import metrics\n",
        "from sklearn.neighbors import KNeighborsClassifier\n",
        "Ks = 10\n",
        "mean_acc = np.zeros((Ks))\n",
        "\n",
        "\n",
        "for n in range(1,Ks+1):\n",
        "    \n",
        "    #Train Model and Predict  \n",
        "    neigh = KNeighborsClassifier(n_neighbors = n).fit(x_train,y_train)\n",
        "    y_predict=neigh.predict(x_test)\n",
        "    mean_acc[n-1] = metrics.accuracy_score(y_test, y_predict)\n",
        "\n",
        "mean_acc"
      ],
      "execution_count": null,
      "outputs": [
        {
          "output_type": "execute_result",
          "data": {
            "text/plain": [
              "array([1.        , 0.85714286, 1.        , 0.85714286, 0.85714286,\n",
              "       0.85714286, 0.85714286, 0.85714286, 0.85714286, 0.71428571])"
            ]
          },
          "metadata": {},
          "execution_count": 6
        }
      ]
    },
    {
      "cell_type": "code",
      "metadata": {
        "id": "iPrY_t7SxxpU",
        "colab": {
          "base_uri": "https://localhost:8080/"
        },
        "outputId": "4955f232-560e-4398-f51a-246b59407dfa"
      },
      "source": [
        "#modelling dengan k-nn dengan k=terbaik dengan mengukur jarak antar plot dengan minwoski\n",
        "knn =KNeighborsClassifier (n_neighbors=3)\n",
        "knn.fit(x_train,y_train)"
      ],
      "execution_count": null,
      "outputs": [
        {
          "output_type": "execute_result",
          "data": {
            "text/plain": [
              "KNeighborsClassifier(algorithm='auto', leaf_size=30, metric='minkowski',\n",
              "                     metric_params=None, n_jobs=None, n_neighbors=3, p=2,\n",
              "                     weights='uniform')"
            ]
          },
          "metadata": {},
          "execution_count": 7
        }
      ]
    },
    {
      "cell_type": "code",
      "metadata": {
        "colab": {
          "base_uri": "https://localhost:8080/",
          "height": 298
        },
        "id": "SqzLJTtCrc7S",
        "outputId": "43200496-c1d3-4a0b-b2de-a18cc3ad0c47"
      },
      "source": [
        "#Cara  modelling  pengukuran antar plot jenis minwoski rekomendasi p=2\n",
        "from PIL import Image\n",
        "img=Image.open('22.png')\n",
        "img"
      ],
      "execution_count": null,
      "outputs": [
        {
          "output_type": "execute_result",
          "data": {
            "image/png": "[encoded data removed]",
            "text/plain": [
              "<PIL.PngImagePlugin.PngImageFile image mode=RGBA size=282x281 at 0x7FA2E7B610D0>"
            ]
          },
          "metadata": {},
          "execution_count": 9
        }
      ]
    },
    {
      "cell_type": "code",
      "metadata": {
        "colab": {
          "base_uri": "https://localhost:8080/"
        },
        "id": "1T3O9jfdym7W",
        "outputId": "28f124d4-3ab6-4f5a-bf18-89e174920db2"
      },
      "source": [
        "#proses testing dengan modelling menggunakan dataset yang split\n",
        "y_pred = knn.predict(x_test)\n",
        "y_pred"
      ],
      "execution_count": null,
      "outputs": [
        {
          "output_type": "execute_result",
          "data": {
            "text/plain": [
              "array([0, 0, 0, 1, 1, 1, 0, 1, 1, 1, 0, 1, 0])"
            ]
          },
          "metadata": {},
          "execution_count": 22
        }
      ]
    },
    {
      "cell_type": "code",
      "metadata": {
        "colab": {
          "base_uri": "https://localhost:8080/"
        },
        "id": "c1wBo7rqy0HW",
        "outputId": "504ec453-6f8f-4313-8f62-9302b068537e"
      },
      "source": [
        "#menghitung probabilitas testing\n",
        "knn.predict_proba(x_test)"
      ],
      "execution_count": null,
      "outputs": [
        {
          "output_type": "execute_result",
          "data": {
            "text/plain": [
              "array([[1.        , 0.        ],\n",
              "       [1.        , 0.        ],\n",
              "       [1.        , 0.        ],\n",
              "       [0.33333333, 0.66666667],\n",
              "       [0.        , 1.        ],\n",
              "       [0.        , 1.        ],\n",
              "       [1.        , 0.        ],\n",
              "       [0.        , 1.        ],\n",
              "       [0.33333333, 0.66666667],\n",
              "       [0.        , 1.        ],\n",
              "       [1.        , 0.        ],\n",
              "       [0.        , 1.        ],\n",
              "       [1.        , 0.        ]])"
            ]
          },
          "metadata": {},
          "execution_count": 23
        }
      ]
    },
    {
      "cell_type": "code",
      "metadata": {
        "colab": {
          "base_uri": "https://localhost:8080/"
        },
        "id": "5uDXCCRby708",
        "outputId": "813a36a9-0aa8-4f55-8571-a212deb801e0"
      },
      "source": [
        "#menghitung confusion matrix actual dan predict\n",
        "from sklearn.metrics import classification_report,confusion_matrix\n",
        "print (confusion_matrix(y_test,y_pred))"
      ],
      "execution_count": null,
      "outputs": [
        {
          "output_type": "stream",
          "name": "stdout",
          "text": [
            "[[6 0]\n",
            " [0 7]]\n"
          ]
        }
      ]
    },
    {
      "cell_type": "code",
      "metadata": {
        "colab": {
          "base_uri": "https://localhost:8080/"
        },
        "id": "wlTjC4M3zQue",
        "outputId": "3d89acb8-dcfe-41d2-a957-3a889534528f"
      },
      "source": [
        "#hasil reporting berdasarkan y test dengan y prediksi,\n",
        "#Accuracy Merupakan rasio prediksi Benar (positif dan negatif) dengan keseluruhan data\n",
        "# Precision Merupakan rasio prediksi benar positif dibandingkan dengan keseluruhan hasil yang diprediksi positf.\n",
        "#Recall Merupakan rasio prediksi benar positif dibandingkan dengan keseluruhan data yang benar positif\n",
        "print (classification_report(y_test,y_pred))"
      ],
      "execution_count": null,
      "outputs": [
        {
          "output_type": "stream",
          "name": "stdout",
          "text": [
            "              precision    recall  f1-score   support\n",
            "\n",
            "           0       1.00      1.00      1.00         6\n",
            "           1       1.00      1.00      1.00         7\n",
            "\n",
            "    accuracy                           1.00        13\n",
            "   macro avg       1.00      1.00      1.00        13\n",
            "weighted avg       1.00      1.00      1.00        13\n",
            "\n"
          ]
        }
      ]
    },
    {
      "cell_type": "markdown",
      "metadata": {
        "id": "ZBKRbAqscfjx"
      },
      "source": [
        "\n",
        "\n",
        "```\n",
        "\n",
        "```\n",
        "\n",
        "# Predict use modelling with new data"
      ]
    },
    {
      "cell_type": "code",
      "metadata": {
        "colab": {
          "base_uri": "https://localhost:8080/"
        },
        "id": "YMAGU8QJ9GNV",
        "outputId": "4c03a77d-4619-42c1-95ea-bee85c246dd9"
      },
      "source": [
        "#PREDIKSI PERTAMA vibrasi Genshaftx=80,TEMPBEARINGMETAL=56\n",
        "y_pred1=knn.predict([(90,56)])\n",
        "print(y_pred1)\n",
        "if (y_pred1> 0):\n",
        "  print('abnormal')\n",
        "else:\n",
        "  print('normal')"
      ],
      "execution_count": null,
      "outputs": [
        {
          "output_type": "stream",
          "name": "stdout",
          "text": [
            "[0]\n",
            "normal\n"
          ]
        }
      ]
    },
    {
      "cell_type": "code",
      "metadata": {
        "colab": {
          "base_uri": "https://localhost:8080/"
        },
        "id": "7XrBqYjD9uIO",
        "outputId": "d6f78e06-fd20-4499-f0c9-dfda58a5cd2d"
      },
      "source": [
        "#PREDIKSI KEDUA Genshaftx=145,TEMPBEARINGMETAL=59\n",
        "y_pred2=knn.predict([(145,59)])\n",
        "print(y_pred2)\n",
        "if (y_pred2> 0):\n",
        "  print('abnormal')\n",
        "else:\n",
        "  print('normal')"
      ],
      "execution_count": null,
      "outputs": [
        {
          "output_type": "stream",
          "name": "stdout",
          "text": [
            "[1]\n",
            "abnormal\n"
          ]
        }
      ]
    },
    {
      "cell_type": "markdown",
      "metadata": {
        "id": "9CH9Xtm5CP1u"
      },
      "source": [
        "#Visualization with scatterplot"
      ]
    },
    {
      "cell_type": "code",
      "metadata": {
        "id": "WyEn70WnDiyD"
      },
      "source": [
        "# mengimport library visualisasi data\n",
        "import sys\n",
        "import matplotlib\n",
        "import matplotlib.pyplot as plt\n",
        "matplotlib.use('Agg')\n",
        "import numpy as np\n",
        "%matplotlib inline"
      ],
      "execution_count": null,
      "outputs": []
    },
    {
      "cell_type": "code",
      "metadata": {
        "id": "rpR1mw90GnZU"
      },
      "source": [
        "#hasil prediksi  normal data baru\n",
        "x3 = np.array([90])\n",
        "y3 = np.array([56])\n"
      ],
      "execution_count": null,
      "outputs": []
    },
    {
      "cell_type": "code",
      "metadata": {
        "id": "H2oaiXIeINI0"
      },
      "source": [
        "#hasil prediksi abnormal data baru \n",
        "x4 = np.array([145])\n",
        "y4 = np.array([59])"
      ],
      "execution_count": null,
      "outputs": []
    },
    {
      "cell_type": "code",
      "metadata": {
        "colab": {
          "base_uri": "https://localhost:8080/",
          "height": 389
        },
        "id": "k5ZCc_yeNMIB",
        "outputId": "51c4139e-b594-49ea-afa9-72a681b54380"
      },
      "source": [
        "#hasil visualisasi berdasarkan modelling\n",
        "from matplotlib.colors import ListedColormap\n",
        "from sklearn import neighbors, datasets\n",
        "x_set, y_set = x_train, y_train\n",
        "x1, x2 = np.meshgrid(np.arange(start=x_set[:, 0].min()-1,stop=x_set[:,0].max()+1,step=0.01),\n",
        "                      np.arange(start=x_set[:, 1].min()-1,stop=x_set[:, 1].max()+1,step=0.01))\n",
        "\n",
        "plt.contourf(x1,x2, knn.predict(np.array([x1.ravel(),x2.ravel()]).T).reshape(x1.shape),\n",
        "                                  alpha = 0.85, camp = ListedColormap(('yellow','grey')))\n",
        "plt.xlim(x1.min(),x1.max())\n",
        "plt.ylim(x2.min(),x2.max())\n",
        "for i, j in enumerate(np.unique(y_set)):\n",
        "   plt.scatter(x_set[y_set == j, 0], x_set[y_set == j, 1],\n",
        "               c = ListedColormap(('red', 'blue'))(i), label = 'normal' if j == 0 else 'abnormal') # Ternery Operator\n",
        "  \n",
        "plt.scatter(x3,y3, label=\"predkisi(normal)\",color='green')\n",
        "\n",
        "plt.scatter(x4,y4, label=\"predkisi(abnormal)\",color='orange')\n",
        "  \n",
        "plt.title('klasifikasi data k-nn(data training)')\n",
        "plt.xlabel('vibrasi')\n",
        "plt.ylabel('temp  metal thrust bearing')\n",
        "plt.legend()\n",
        "plt.show()"
      ],
      "execution_count": null,
      "outputs": [
        {
          "output_type": "stream",
          "name": "stderr",
          "text": [
            "/usr/local/lib/python3.7/dist-packages/ipykernel_launcher.py:9: UserWarning: The following kwargs were not used by contour: 'camp'\n",
            "  if __name__ == '__main__':\n",
            "*c* argument looks like a single numeric RGB or RGBA sequence, which should be avoided as value-mapping will have precedence in case its length matches with *x* & *y*.  Please use the *color* keyword-argument or provide a 2-D array with a single row if you intend to specify the same RGB or RGBA value for all points.\n",
            "*c* argument looks like a single numeric RGB or RGBA sequence, which should be avoided as value-mapping will have precedence in case its length matches with *x* & *y*.  Please use the *color* keyword-argument or provide a 2-D array with a single row if you intend to specify the same RGB or RGBA value for all points.\n"
          ]
        },
        {
          "output_type": "display_data",
          "data": {
            "image/png": "[encoded data removed]",
            "text/plain": [
              "<Figure size 432x288 with 1 Axes>"
            ]
          },
          "metadata": {
            "needs_background": "light"
          }
        }
      ]
    }
  ]
}